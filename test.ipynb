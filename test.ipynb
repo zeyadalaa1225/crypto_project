{
 "cells": [
  {
   "cell_type": "code",
   "execution_count": 1,
   "id": "3a66ec8e",
   "metadata": {},
   "outputs": [],
   "source": [
    "from LCG import LCG"
   ]
  },
  {
   "cell_type": "code",
   "execution_count": 4,
   "id": "490d2bd3",
   "metadata": {},
   "outputs": [
    {
     "name": "stdout",
     "output_type": "stream",
     "text": [
      "[33, 12, 251, 30, 229, 0, 95, 50, 233, 52]\n"
     ]
    }
   ],
   "source": [
    "gen = LCG(seed=123466)\n",
    "keystream = gen.lcg(10) \n"
   ]
  },
  {
   "cell_type": "code",
   "execution_count": null,
   "id": "fee1a451",
   "metadata": {},
   "outputs": [],
   "source": []
  }
 ],
 "metadata": {
  "kernelspec": {
   "display_name": "myenv",
   "language": "python",
   "name": "python3"
  },
  "language_info": {
   "codemirror_mode": {
    "name": "ipython",
    "version": 3
   },
   "file_extension": ".py",
   "mimetype": "text/x-python",
   "name": "python",
   "nbconvert_exporter": "python",
   "pygments_lexer": "ipython3",
   "version": "3.10.13"
  }
 },
 "nbformat": 4,
 "nbformat_minor": 5
}
