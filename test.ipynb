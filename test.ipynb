{
 "cells": [
  {
   "cell_type": "code",
   "execution_count": 1,
   "id": "3a66ec8e",
   "metadata": {},
   "outputs": [],
   "source": [
    "from LCG import LCG\n",
    "from AES import AESCipher\n",
    "from OTP import OTP\n",
    "from Diffie_Hellman import DiffieHellman"
   ]
  },
  {
   "cell_type": "code",
   "execution_count": 2,
   "id": "490d2bd3",
   "metadata": {},
   "outputs": [
    {
     "name": "stdout",
     "output_type": "stream",
     "text": [
      "[33, 12, 251, 30, 229, 0, 95, 50, 233, 52]\n"
     ]
    }
   ],
   "source": [
    "gen = LCG(seed=123466)\n",
    "keystream = gen.lcg(10) \n"
   ]
  },
  {
   "cell_type": "code",
   "execution_count": 3,
   "id": "fee1a451",
   "metadata": {},
   "outputs": [
    {
     "name": "stdout",
     "output_type": "stream",
     "text": [
      "b'\\x07!\\xa2<\\xe7\\xe7!w\\xa76\\xb2\\xcaT\\x98c\\xd2'\n",
      "b'123456789'\n",
      "Encrypted: 0721a23ce7e72177a736b2ca549863d2\n",
      "Decrypted: b'123456789'\n",
      "[3, 134, 45, 168, 231, 26]\n",
      "[75, 227, 65, 196, 215, 117]\n",
      "[3, 134, 45, 168, 231, 26]\n",
      "Hell0o\n",
      "Encrypted: [75, 227, 65, 196, 215, 117]\n",
      "Decrypted: Hell0o\n"
     ]
    }
   ],
   "source": [
    "key = b\"ThisIsA16ByteKey\"  # 16 bytes\n",
    "aes = AESCipher(key)\n",
    "\n",
    "data = b\"123456789\"\n",
    "encrypted = aes.encrypt(data)\n",
    "decrypted = aes.decrypt(encrypted)\n",
    "\n",
    "print(\"Encrypted:\", encrypted.hex())\n",
    "print(\"Decrypted:\", decrypted)\n",
    "otp=OTP(int.from_bytes(keystream,'big'))\n",
    "data=\"Hell0o\"\n",
    "encrypted = otp.encrypt(data)\n",
    "decrypted = otp.decrypt(encrypted)\n",
    "print(\"Encrypted:\", encrypted)\n",
    "print(\"Decrypted:\", decrypted)\n"
   ]
  },
  {
   "cell_type": "code",
   "execution_count": 10,
   "id": "e8e46f67",
   "metadata": {},
   "outputs": [
    {
     "name": "stdout",
     "output_type": "stream",
     "text": [
      "Generated prime: 7\n",
      "Found generator: 3\n",
      "Generated private key: 3\n",
      "Generated public key: 6\n",
      "Generated private key: 5\n",
      "Generated public key: 5\n",
      "Computed shared secret (original): 6\n",
      "Computed shared secret (original): 6\n",
      "Shared secret: 6\n"
     ]
    }
   ],
   "source": [
    "# Example of usage:\n",
    "dh = DiffieHellman()\n",
    "dh.generate_keys()\n",
    "\n",
    "# Simulating the other party's Diffie-Hellman\n",
    "other_dh = DiffieHellman(prime=dh.prime, generator=dh.generator)\n",
    "other_public_key = other_dh.generate_keys()\n",
    "\n",
    "# Both parties compute the shared secret\n",
    "shared_secret = dh.compute_shared_secret(other_public_key)\n",
    "other_shared_secret = other_dh.compute_shared_secret(dh.public_key)\n",
    "\n",
    "assert shared_secret == other_shared_secret, \"Shared secrets do not match!\"\n",
    "print(f\"Shared secret: {shared_secret}\")\n"
   ]
  },
  {
   "cell_type": "code",
   "execution_count": null,
   "id": "a3d25f6c",
   "metadata": {},
   "outputs": [],
   "source": []
  }
 ],
 "metadata": {
  "kernelspec": {
   "display_name": "myenv",
   "language": "python",
   "name": "python3"
  },
  "language_info": {
   "codemirror_mode": {
    "name": "ipython",
    "version": 3
   },
   "file_extension": ".py",
   "mimetype": "text/x-python",
   "name": "python",
   "nbconvert_exporter": "python",
   "pygments_lexer": "ipython3",
   "version": "3.10.13"
  }
 },
 "nbformat": 4,
 "nbformat_minor": 5
}
